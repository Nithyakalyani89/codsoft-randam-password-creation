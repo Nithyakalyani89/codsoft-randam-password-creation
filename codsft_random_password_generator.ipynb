{
  "nbformat": 4,
  "nbformat_minor": 0,
  "metadata": {
    "colab": {
      "provenance": [],
      "authorship_tag": "ABX9TyM5IoYlkALIFPHdQXCIZzdd",
      "include_colab_link": true
    },
    "kernelspec": {
      "name": "python3",
      "display_name": "Python 3"
    },
    "language_info": {
      "name": "python"
    }
  },
  "cells": [
    {
      "cell_type": "markdown",
      "metadata": {
        "id": "view-in-github",
        "colab_type": "text"
      },
      "source": [
        "<a href=\"https://colab.research.google.com/github/Nithyakalyani89/codsoft-randam-password-creation/blob/main/codsft_random_password_generator.ipynb\" target=\"_parent\"><img src=\"https://colab.research.google.com/assets/colab-badge.svg\" alt=\"Open In Colab\"/></a>"
      ]
    },
    {
      "cell_type": "markdown",
      "source": [
        "## Import modules"
      ],
      "metadata": {
        "id": "Y-N6qsgH7p40"
      }
    },
    {
      "cell_type": "code",
      "execution_count": null,
      "metadata": {
        "id": "lua8M21_uPjE"
      },
      "outputs": [],
      "source": [
        "import string\n",
        "import random"
      ]
    },
    {
      "cell_type": "markdown",
      "source": [
        "## Getting password length & character set for password"
      ],
      "metadata": {
        "id": "a4VMLY4b7vJp"
      }
    },
    {
      "cell_type": "code",
      "source": [
        "length = int(input(\"Enter password length: \"))\n",
        "\n",
        "print('''Choose character set for password from these :\n",
        "         1. Digits\n",
        "         2. Letters\n",
        "         3. Special characters\n",
        "         4. Exit''')\n",
        "characterList = \"\"\n",
        "\n",
        "# Getting character set for password\n",
        "while(True):\n",
        "    choice = int(input(\"Pick a number \"))\n",
        "    if(choice == 1):\n",
        "\n",
        "        # Adding letters to possible characters\n",
        "        characterList += string.ascii_letters\n",
        "    elif(choice == 2):\n",
        "\n",
        "        # Adding digits to possible characters\n",
        "        characterList += string.digits\n",
        "    elif(choice == 3):\n",
        "\n",
        "        # Adding special characters to possible\n",
        "        # characters\n",
        "        characterList += string.punctuation\n",
        "    elif(choice == 4):\n",
        "        break\n",
        "    else:\n",
        "        print(\"Please pick a valid option!\")\n",
        "\n",
        "password = []\n",
        "\n",
        "for i in range(length):\n",
        "\n",
        "    # Picking a random character from our\n",
        "    # character list\n",
        "    randomchar = random.choice(characterList)\n",
        "\n",
        "    # appending a random character to password\n",
        "    password.append(randomchar)\n",
        "\n",
        "# printing password as a string\n",
        "print(\"The random password is \" + \"\".join(password))"
      ],
      "metadata": {
        "colab": {
          "base_uri": "https://localhost:8080/"
        },
        "id": "SOZm5QKN88rz",
        "outputId": "fe83c455-46e9-4fc3-f56d-dc8e97f95582"
      },
      "execution_count": null,
      "outputs": [
        {
          "output_type": "stream",
          "name": "stdout",
          "text": [
            "Enter password length: 12\n",
            "Choose character set for password from these : \n",
            "         1. Digits\n",
            "         2. Letters\n",
            "         3. Special characters\n",
            "         4. Exit\n",
            "Pick a number 1\n",
            "Pick a number 2\n",
            "Pick a number 3\n",
            "Pick a number 4\n",
            "The random password is ak`Z$TRi_AtH\n"
          ]
        }
      ]
    }
  ]
}